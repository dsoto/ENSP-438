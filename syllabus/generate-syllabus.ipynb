{
 "metadata": {
  "name": "",
  "signature": "sha256:395a9fc08d7f9e9f9f432b8072582858b2a02cb10337004c012064bea6807ed3"
 },
 "nbformat": 3,
 "nbformat_minor": 0,
 "worksheets": [
  {
   "cells": [
    {
     "cell_type": "markdown",
     "metadata": {},
     "source": [
      "Generates syllabus from jinja template and inserts tables generated from xlsx file with schedule. \n",
      "Outputs a markdown file to be converted or uploaded to github."
     ]
    },
    {
     "cell_type": "code",
     "collapsed": false,
     "input": [
      "import pandas as pd\n",
      "import numpy as np\n",
      "import tabulate"
     ],
     "language": "python",
     "metadata": {},
     "outputs": [],
     "prompt_number": 26
    },
    {
     "cell_type": "code",
     "collapsed": false,
     "input": [
      "schedule = pd.read_excel('438-syllabus.xlsx', 'schedule', index='Lecture')"
     ],
     "language": "python",
     "metadata": {},
     "outputs": [],
     "prompt_number": 27
    },
    {
     "cell_type": "code",
     "collapsed": false,
     "input": [
      "def create_full_table(schedule, columns):\n",
      "\n",
      "    rdf = schedule[columns]\n",
      "    rdf = schedule[np.isfinite(schedule['Lecture'])]\n",
      "    \n",
      "    for col in columns:\n",
      "        if col is not 'Lecture':\n",
      "            rdf[col] = rdf[col].fillna('')\n",
      "            \n",
      "    tablestr = tabulate.tabulate(rdf[columns].values, headers=columns, tablefmt='pipe')\n",
      "    #print(tablestr)\n",
      "    return tablestr\n",
      "    \n",
      "def create_partial_table(schedule, columns):\n",
      "    \n",
      "    rdf = schedule[columns]\n",
      "    rdf = rdf.dropna()\n",
      "    tablestr = tabulate.tabulate(rdf[columns].values, headers=columns, tablefmt='pipe')\n",
      "    #print(tablestr)\n",
      "    return tablestr"
     ],
     "language": "python",
     "metadata": {},
     "outputs": [],
     "prompt_number": 28
    },
    {
     "cell_type": "code",
     "collapsed": false,
     "input": [
      "course_schedule = create_full_table(schedule, ['Lecture', 'Date', 'Topic'])"
     ],
     "language": "python",
     "metadata": {},
     "outputs": [],
     "prompt_number": 29
    },
    {
     "cell_type": "code",
     "collapsed": false,
     "input": [
      "project_schedule = create_partial_table(schedule, ['Date', 'Project'])"
     ],
     "language": "python",
     "metadata": {},
     "outputs": [],
     "prompt_number": 30
    },
    {
     "cell_type": "code",
     "collapsed": false,
     "input": [
      "reading_schedule = create_partial_table(schedule, ['Date', 'Reading'])"
     ],
     "language": "python",
     "metadata": {},
     "outputs": [],
     "prompt_number": 31
    },
    {
     "cell_type": "code",
     "collapsed": false,
     "input": [
      "homework_schedule = create_partial_table(schedule, ['Date', 'Homework'])"
     ],
     "language": "python",
     "metadata": {},
     "outputs": [],
     "prompt_number": 32
    },
    {
     "cell_type": "code",
     "collapsed": false,
     "input": [
      "import jinja2\n",
      "\n",
      "templateLoader = jinja2.FileSystemLoader( searchpath=\"/\" )\n",
      "templateEnv = jinja2.Environment( loader=templateLoader )\n",
      "TEMPLATE_FILE = \"/Users/dsoto/Dropbox/profhacker/jinja-syllabus/syllabus.jinja\"\n",
      "template = templateEnv.get_template( TEMPLATE_FILE )\n",
      "templateVars = { \"homework_schedule\" : homework_schedule,\n",
      "                 \"reading_schedule\" : reading_schedule,\n",
      "                 \"project_schedule\" : project_schedule,\n",
      "                 \"course_schedule\" : course_schedule\n",
      "               }\n",
      "\n",
      "# render template and output to file\n",
      "outputText = template.render( templateVars )\n",
      "with open('438-syllabus.md', 'w') as f:\n",
      "    f.write(outputText)\n",
      "    #print(outputText)"
     ],
     "language": "python",
     "metadata": {},
     "outputs": [],
     "prompt_number": 33
    },
    {
     "cell_type": "code",
     "collapsed": false,
     "input": [],
     "language": "python",
     "metadata": {},
     "outputs": [],
     "prompt_number": 33
    }
   ],
   "metadata": {}
  }
 ]
}